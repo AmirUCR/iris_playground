{
 "cells": [
  {
   "cell_type": "markdown",
   "metadata": {},
   "source": [
    "# Iris Playground - Part 2\n",
    "### Instructors: Vagelis Papalexakis, Yorgos Tsitsikas\n",
    "### Code and Responses: Amirsadra Mohseni\n",
    "### University of California, Riverside\n",
    "\n",
    "In this assignment we will implement the K-means clustering algorithm. We are going to use the same dataset as in the previous two parts"
   ]
  },
  {
   "cell_type": "code",
   "execution_count": 1,
   "metadata": {},
   "outputs": [
    {
     "data": {
      "text/html": [
       "<div>\n",
       "<style scoped>\n",
       "    .dataframe tbody tr th:only-of-type {\n",
       "        vertical-align: middle;\n",
       "    }\n",
       "\n",
       "    .dataframe tbody tr th {\n",
       "        vertical-align: top;\n",
       "    }\n",
       "\n",
       "    .dataframe thead th {\n",
       "        text-align: right;\n",
       "    }\n",
       "</style>\n",
       "<table border=\"1\" class=\"dataframe\">\n",
       "  <thead>\n",
       "    <tr style=\"text-align: right;\">\n",
       "      <th></th>\n",
       "      <th>sepal_length</th>\n",
       "      <th>sepal_width</th>\n",
       "      <th>petal_length</th>\n",
       "      <th>petal_width</th>\n",
       "      <th>label</th>\n",
       "    </tr>\n",
       "  </thead>\n",
       "  <tbody>\n",
       "    <tr>\n",
       "      <th>0</th>\n",
       "      <td>5.1</td>\n",
       "      <td>3.5</td>\n",
       "      <td>1.4</td>\n",
       "      <td>0.2</td>\n",
       "      <td>Iris-setosa</td>\n",
       "    </tr>\n",
       "    <tr>\n",
       "      <th>1</th>\n",
       "      <td>4.9</td>\n",
       "      <td>3.0</td>\n",
       "      <td>1.4</td>\n",
       "      <td>0.2</td>\n",
       "      <td>Iris-setosa</td>\n",
       "    </tr>\n",
       "    <tr>\n",
       "      <th>2</th>\n",
       "      <td>4.7</td>\n",
       "      <td>3.2</td>\n",
       "      <td>1.3</td>\n",
       "      <td>0.2</td>\n",
       "      <td>Iris-setosa</td>\n",
       "    </tr>\n",
       "    <tr>\n",
       "      <th>3</th>\n",
       "      <td>4.6</td>\n",
       "      <td>3.1</td>\n",
       "      <td>1.5</td>\n",
       "      <td>0.2</td>\n",
       "      <td>Iris-setosa</td>\n",
       "    </tr>\n",
       "    <tr>\n",
       "      <th>4</th>\n",
       "      <td>5.0</td>\n",
       "      <td>3.6</td>\n",
       "      <td>1.4</td>\n",
       "      <td>0.2</td>\n",
       "      <td>Iris-setosa</td>\n",
       "    </tr>\n",
       "  </tbody>\n",
       "</table>\n",
       "</div>"
      ],
      "text/plain": [
       "   sepal_length  sepal_width  petal_length  petal_width        label\n",
       "0           5.1          3.5           1.4          0.2  Iris-setosa\n",
       "1           4.9          3.0           1.4          0.2  Iris-setosa\n",
       "2           4.7          3.2           1.3          0.2  Iris-setosa\n",
       "3           4.6          3.1           1.5          0.2  Iris-setosa\n",
       "4           5.0          3.6           1.4          0.2  Iris-setosa"
      ]
     },
     "execution_count": 1,
     "metadata": {},
     "output_type": "execute_result"
    }
   ],
   "source": [
    "import numpy as np\n",
    "import pandas as pd\n",
    "import matplotlib.pyplot as plt\n",
    "import seaborn as sns\n",
    "import random as rand\n",
    "from sklearn.model_selection import train_test_split\n",
    "\n",
    "\n",
    "data_names = ['sepal_length', 'sepal_width', 'petal_length', 'petal_width', 'label']\n",
    "data = pd.read_csv('iris.data', names = data_names)\n",
    "data.head()"
   ]
  },
  {
   "cell_type": "markdown",
   "metadata": {},
   "source": [
    "## 1. Implementing and testing K-means clustering\n",
    "### Section 1a: Implementing K-Means clustering\n",
    "\n",
    "In this section we will implement a function that performs k-means clustering, using the Euclidean distance (we use Numpy libraries for the distance computation). For calculation of the centroid we use the 'mean' function.\n",
    "\n",
    "We implement a function with the following specifications:\n",
    "```python\n",
    "def kmeans_clustering(all_vals,K,max_iter = 100, tol = pow(10,-3) ):\n",
    "```\n",
    "where\n",
    "\n",
    "1. 'all_vals' is the $N \\times M$ matrix that contains all data points ($N$ is the number of data points and $M$ is the number of features, each row of the matrix is a data point)\n",
    "2. 'K' is the number of clusters\n",
    "3. 'max_iter' is the maxium number of iterations\n",
    "4. 'tol' is the tolerance for the change of the sum of squares of errors that determines convergence.\n",
    "\n",
    "Our function should return the following variables:\n",
    "\n",
    "1. 'assignments': this is a $N\\times 1$ vector (where $N$ is the number of data points) where the $i$-th position of that vector contains the cluster number that the $i$-th data point is assigned to\n",
    "2. 'centroids': this is a $K\\times M$ matrix, each row of which contains the centroid for every cluster\n",
    "3. 'all_sse': this is a vector that contains all the sum of squares of errors per iteration of the algorithm \n",
    "4. 'iters': this is the number of iterations that the algorithm ran.\n",
    "\n",
    "Here we are going to implement the simplest version of K-means, where the initial centroids are chosen entirely at random among all the data points.\n",
    "\n",
    "The K-means algorithm iterates over the following steps:\n",
    "- Given a set of centroids, assign all data points to the cluster represented by its nearest centroid (according to Euclidean distance)\n",
    "- Given a set of assignments of points to clusters, compute the new centroids for every cluster, by taking the mean of all the points assigned to each cluster.\n",
    "\n",
    "Our algorithm should converge if\n",
    "\n",
    "1. the maximum number of iterations is reached\n",
    "2. if the SSE between two consecutive iterations does not change a lot (as in the gradient descent for linear regression we saw in part 2). In order to check for the latter condition, we will use the following piece of code:\n",
    "\n",
    "```python\n",
    "if np.absolute(all_sse[it] - all_sse[it-1])/all_sse[it-1] <= tol\n",
    "```\n",
    "\n",
    "In order to calculate the SSE (sum of squares of error) first we need to define what an 'error' is. In k-means, error per data point refers to the Euclidean distance of that particular point from its assigned centroid. SSE sums up all those squared Euclidean distances for all data points and comes up with a number that reflects the total error of approximating every data points by its assigned centroid.\n",
    "\n",
    "\n"
   ]
  },
  {
   "cell_type": "code",
   "execution_count": 2,
   "metadata": {},
   "outputs": [],
   "source": [
    "#k-means clustering\n",
    "def kmeans_clustering(all_vals, K, max_iter=100, tol=pow(10,-3)):\n",
    "    # store only numeric values\n",
    "    all_vals = all_vals.select_dtypes(include=np.number)\n",
    "    N = all_vals.shape[0]\n",
    "    \n",
    "    # K x M matrix, each row of which contains the centroid for every cluster\n",
    "    centroids = all_vals.sample(n=K)\n",
    "    \n",
    "    # contains the cluster number\n",
    "    # that the i-th data point is assigned to\n",
    "    assignments = np.zeros(N)\n",
    "\n",
    "    # Initial centroids (centroid 0...k) belong to the 0...K clusters\n",
    "    for k in range(0, K):\n",
    "        index = centroids.iloc[k].name\n",
    "        assignments[index] = k\n",
    "    \n",
    "    centroids = centroids.reset_index(drop=True)\n",
    "    \n",
    "    # contains all the sum of squares of errors per iteration of the algorithm\n",
    "    all_sse = []\n",
    "    iters = 0\n",
    "    \n",
    "    for it in range(0, max_iter):\n",
    "        iter_sse = []\n",
    "        for data_index, data_row in all_vals.iterrows():\n",
    "            # distances will hold at most K elements at any time\n",
    "            distance_to_clusters = []\n",
    "            \n",
    "            # Find the distances between this data point and each centroid\n",
    "            for _, cent_row in centroids.iterrows():\n",
    "                distance_to_clusters.append(np.linalg.norm(data_row - cent_row, axis=0))\n",
    "                \n",
    "            # Find nearest centroid.\n",
    "            # This ranges from 0 to K clusters\n",
    "            min_dist = min(distance_to_clusters)\n",
    "            iter_sse.append(min_dist)\n",
    "            nearest_cluster = distance_to_clusters.index(min_dist)\n",
    "            \n",
    "            # Assign this data point to the nearest cluster\n",
    "            assignments[data_index] = nearest_cluster\n",
    "            \n",
    "        # calculate error for this iteration    \n",
    "        all_sse.append(np.mean(iter_sse))\n",
    "        \n",
    "        if (len(all_sse) > 1) and (np.absolute(all_sse[it] - all_sse[it - 1]) / all_sse[it - 1] <= tol):\n",
    "            iters = it\n",
    "            break # we are done\n",
    "        \n",
    "        for cluster_index,_ in centroids.iterrows():\n",
    "            points_in_cluster_indices = np.where(assignments == cluster_index)\n",
    "            data_points_in_cluster = all_vals.iloc[points_in_cluster_indices]\n",
    "            \n",
    "            # calculate new centroid with mean\n",
    "            cluster_mean = np.mean(data_points_in_cluster)\n",
    "            centroids.iloc[cluster_index] = cluster_mean\n",
    "    \n",
    "    return assignments, centroids, all_sse, iters"
   ]
  },
  {
   "cell_type": "code",
   "execution_count": 3,
   "metadata": {},
   "outputs": [
    {
     "data": {
      "text/plain": [
       "(array([0., 0., 0., 0., 0., 0., 0., 0., 0., 0., 0., 0., 0., 0., 0., 0., 0.,\n",
       "        0., 0., 0., 0., 0., 0., 0., 0., 0., 0., 0., 0., 0., 0., 0., 0., 0.,\n",
       "        0., 0., 0., 0., 0., 0., 0., 0., 0., 0., 0., 0., 0., 0., 0., 0., 2.,\n",
       "        1., 2., 1., 1., 1., 1., 1., 1., 1., 1., 1., 1., 1., 1., 1., 1., 1.,\n",
       "        1., 1., 1., 1., 1., 1., 1., 1., 2., 2., 1., 1., 1., 1., 1., 1., 1.,\n",
       "        1., 2., 1., 1., 1., 1., 1., 1., 1., 1., 1., 1., 1., 1., 1., 2., 1.,\n",
       "        2., 2., 2., 2., 1., 2., 2., 2., 2., 2., 2., 1., 2., 2., 2., 2., 2.,\n",
       "        1., 2., 1., 2., 2., 2., 2., 1., 2., 2., 2., 2., 2., 2., 2., 2., 2.,\n",
       "        2., 2., 1., 2., 2., 2., 1., 2., 2., 2., 2., 2., 2., 2.]),\n",
       "    sepal_length  sepal_width  petal_length  petal_width\n",
       " 0      5.006000     3.418000      1.464000     0.244000\n",
       " 1      5.804167     2.714583      4.235417     1.345833\n",
       " 2      6.684615     3.017308      5.525000     1.980769,\n",
       " [1.0476394812688379,\n",
       "  0.6570736498623181,\n",
       "  0.6528260503594228,\n",
       "  0.6508006851682077,\n",
       "  0.6502322252594368],\n",
       " 4)"
      ]
     },
     "execution_count": 3,
     "metadata": {},
     "output_type": "execute_result"
    }
   ],
   "source": [
    "kmeans_clustering(data, 3)"
   ]
  },
  {
   "cell_type": "markdown",
   "metadata": {},
   "source": [
    "### Section 1b: Visualizing K-means\n",
    "In this section we will visualize the result of the K-means algorithm. For ease of visualization, we will focus on a scatterplot of two of the four features of the Iris dataset. In particular: run your K-means code with K=3 and default values for the rest of the inputs. Subsequently, make a single scatterplot that contains all data points of the dataset for features 'sepal_length' and 'petal_length' and color every data point according to its cluster assignments."
   ]
  },
  {
   "cell_type": "code",
   "execution_count": 4,
   "metadata": {},
   "outputs": [],
   "source": [
    "assignments = kmeans_clustering(data, 3, max_iter=100, tol=pow(10,-3))[0]"
   ]
  },
  {
   "cell_type": "code",
   "execution_count": 5,
   "metadata": {},
   "outputs": [
    {
     "data": {
      "image/png": "[encoded data removed]",
      "text/plain": [
       "<Figure size 432x288 with 1 Axes>"
      ]
     },
     "metadata": {
      "needs_background": "light"
     },
     "output_type": "display_data"
    }
   ],
   "source": [
    "ax = sns.scatterplot(x=\"sepal_length\", y=\"petal_length\", hue=assignments, palette='colorblind', data=data)"
   ]
  },
  {
   "cell_type": "markdown",
   "metadata": {},
   "source": [
    "### Section 1c: Testing K-means\n",
    "Selecting the right number of clusters $K$ is a very challenging problem, especially when we don't have some side-information or domain expertise that can help us narrow down a few reasonable values for that parameter. \n",
    "\n",
    "In the absence of any other information, a very useful exercise is to create the plot of SSE (sum of squares of errors) as a function of $K$. Ideally, for a very small $K$, the error will be high (since we are trying to approximate a whole lot of points with a very small number of centroids) and as $K$ increases, the error decreases. However, after a certain value (or a couple of values) for $K$, we will notice diminishing returns, i.e., the error will be decreasing, but not to a great degree. Typically, the value(s) for $K$ where this behavior is observed (the threshold point after which we observe diminishing returns) is usually a good guess for the number of clusters. \n",
    "\n",
    "In this question, we will have to create the SSE vs. K plot for $K = 1\\cdots10$. Furthermore, because K-means uses randomized initialization, we need to do a number of iterations per value of $K$ in order to get a good estimate of the actual SSE (which may not be caused by randomness in the initialization). For this question, we will have to run the entire K-means algorithm to completion, and repeat it 50 different times per $K$, and collect all SSEs. In the figure, we report the mean SSE per $K$, surrounded by error-bars which will encode the standard deviation."
   ]
  },
  {
   "cell_type": "code",
   "execution_count": 6,
   "metadata": {},
   "outputs": [],
   "source": [
    "def iterate_kmeans_clustering(all_vals, K_min, K_max, repeat=50, max_iter=100, tol=pow(10,-3)):\n",
    "    k_num = K_max - K_min + 1\n",
    "    sse = np.zeros((k_num, repeat))\n",
    "    \n",
    "    i = 0\n",
    "    for k in range(K_min, K_max + 1):\n",
    "        for r in range(0, repeat):\n",
    "            # kmeans_clustering returns all_sse as its third return value, hence [2]\n",
    "            # we only need the last reported sse, hence the [-1]\n",
    "            sse[i][r] = kmeans_clustering(all_vals, k, max_iter, tol)[2][-1]\n",
    "        i += 1\n",
    "    \n",
    "    sse_mean = np.mean(sse, axis=1)\n",
    "    sse_std = np.std(sse, axis=1)\n",
    "    \n",
    "    K_array = list(range(K_min, K_max + 1))\n",
    "\n",
    "    plt.xlabel('K')\n",
    "    plt.ylabel('SSE')\n",
    "    plt.errorbar(K_array, sse_mean, sse_std, marker='o')"
   ]
  },
  {
   "cell_type": "code",
   "execution_count": 7,
   "metadata": {},
   "outputs": [
    {
     "data": {
      "image/png": "[encoded data removed]",
      "text/plain": [
       "<Figure size 432x288 with 1 Axes>"
      ]
     },
     "metadata": {
      "needs_background": "light"
     },
     "output_type": "display_data"
    }
   ],
   "source": [
    "iterate_kmeans_clustering(data, 1, 10, repeat=50, max_iter=100, tol=pow(10,-3))"
   ]
  },
  {
   "cell_type": "markdown",
   "metadata": {},
   "source": [
    "Observe that the rate of improvement significantly plateaus after $K$ = 4"
   ]
  }
 ],
 "metadata": {
  "kernelspec": {
   "display_name": "Python 3",
   "language": "python",
   "name": "python3"
  },
  "language_info": {
   "codemirror_mode": {
    "name": "ipython",
    "version": 3
   },
   "file_extension": ".py",
   "mimetype": "text/x-python",
   "name": "python",
   "nbconvert_exporter": "python",
   "pygments_lexer": "ipython3",
   "version": "3.6.10"
  }
 },
 "nbformat": 4,
 "nbformat_minor": 4
}
